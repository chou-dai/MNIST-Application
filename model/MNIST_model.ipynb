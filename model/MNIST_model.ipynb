{
  "nbformat": 4,
  "nbformat_minor": 0,
  "metadata": {
    "colab": {
      "provenance": [],
      "authorship_tag": "ABX9TyMRGK+Erj16gnM1sVaEX2Fm",
      "include_colab_link": true
    },
    "kernelspec": {
      "name": "python3",
      "display_name": "Python 3"
    },
    "language_info": {
      "name": "python"
    }
  },
  "cells": [
    {
      "cell_type": "markdown",
      "metadata": {
        "id": "view-in-github",
        "colab_type": "text"
      },
      "source": [
        "<a href=\"https://colab.research.google.com/github/chou-dai/MNIST-Application/blob/feature%2Fmodel/model/MNIST_model.ipynb\" target=\"_parent\"><img src=\"https://colab.research.google.com/assets/colab-badge.svg\" alt=\"Open In Colab\"/></a>"
      ]
    },
    {
      "cell_type": "code",
      "execution_count": 11,
      "metadata": {
        "id": "lXhezvwy2rAZ"
      },
      "outputs": [],
      "source": [
        "import torch\n",
        "import torch.nn as nn\n",
        "import torch.optim as optim\n",
        "import torchvision\n",
        "import torchvision.transforms as transforms"
      ]
    },
    {
      "cell_type": "code",
      "source": [
        "# --- ニューラルネットワークの定義 ---\n",
        "\n",
        "class Net(nn.Module):\n",
        "    def __init__(self):\n",
        "        super(Net, self).__init__()\n",
        "        # 畳み込み層（入力数、出力数、カーネルサイズ）\n",
        "        self.conv1 = nn.Conv2d(1, 6, 5)\n",
        "        # Maxプーリング層（ウィンドウサイズ、ストライドサイズ）\n",
        "        self.pool1 = nn.MaxPool2d(2, 2)\n",
        "        self.conv2 = nn.Conv2d(6, 16, 5)\n",
        "        self.pool2 = nn.MaxPool2d(2, 2)\n",
        "        # 全結合層（入力数、出力数）\n",
        "        self.fc1 = nn.Linear(16*4*4, 120)\n",
        "        self.fc2 = nn.Linear(120, 84)\n",
        "        self.fc3 = nn.Linear(84, 10)\n",
        "\n",
        "    def forward(self, x):\n",
        "        # 畳み込み層→ReLU関数→プーリング層\n",
        "        x = self.pool1(torch.relu(self.conv1(x)))\n",
        "        x = self.pool2(torch.relu(self.conv2(x)))\n",
        "        # 中間特徴量を1次元に変換\n",
        "        x = x.view(-1, 16*4*4)\n",
        "        # 全結合層間をReLU関数\n",
        "        x = torch.relu(self.fc1(x))\n",
        "        x = torch.relu(self.fc2(x))\n",
        "        x = self.fc3(x)\n",
        "        # ソフトマックス関数\n",
        "        x = torch.softmax(x, dim=1)\n",
        "        return x"
      ],
      "metadata": {
        "id": "XN4hUr146vUf"
      },
      "execution_count": 12,
      "outputs": []
    },
    {
      "cell_type": "code",
      "source": [
        "# --- データの読み込みと前処理 ---\n",
        "\n",
        "# 画像データをTensor形式に変換し、平均0.5、標準偏差0.5で正規化するためのTransformsパイプライン\n",
        "transform = transforms.Compose([transforms.ToTensor(), transforms.Normalize((0.5,), (0.5,))])\n",
        "\n",
        "# 訓練用データの生成\n",
        "trainset = torchvision.datasets.MNIST(root='./data', train=True, download=True, transform=transform)\n",
        "trainloader = torch.utils.data.DataLoader(trainset, batch_size=64, shuffle=True, num_workers=2)\n",
        "\n",
        "# テスト用データの生成\n",
        "testset = torchvision.datasets.MNIST(root='./data', train=False, download=True, transform=transform)\n",
        "testloader = torch.utils.data.DataLoader(testset, batch_size=64, shuffle=False, num_workers=2)"
      ],
      "metadata": {
        "id": "2LqLA0cH6yyW"
      },
      "execution_count": 17,
      "outputs": []
    },
    {
      "cell_type": "code",
      "source": [
        "# --- 損失関数と最適化アルゴリズムの定義 ---\n",
        "\n",
        "net = Net()\n",
        "# クロスエントロピー誤差関数\n",
        "criterion = nn.CrossEntropyLoss()\n",
        "# 最適化アルゴリズムは確率的勾配降下法（SGD）\n",
        "optimizer = optim.SGD(net.parameters(), lr=0.01, momentum=0.9)"
      ],
      "metadata": {
        "id": "2Rm1KEGb7CeQ"
      },
      "execution_count": 14,
      "outputs": []
    },
    {
      "cell_type": "code",
      "source": [
        "# --- 学習の実行 ---\n",
        "\n",
        "# エポック数10\n",
        "for epoch in range(10):\n",
        "    running_loss = 0.0\n",
        "    for i, data in enumerate(trainloader, 0):\n",
        "        inputs, labels = data\n",
        "        # 勾配を0にリセット\n",
        "        optimizer.zero_grad()\n",
        "        outputs = net(inputs)\n",
        "        # 出力値と正解ラベルの誤差を算出\n",
        "        loss = criterion(outputs, labels)\n",
        "        # 誤差逆伝播からパラメータの勾配を算出\n",
        "        loss.backward()\n",
        "        # パラメータを最適化\n",
        "        optimizer.step()\n",
        "\n",
        "        running_loss += loss.item()\n",
        "        if i % 100 == 99:\n",
        "            print('[%d, %5d] loss: %.3f' %\n",
        "                  (epoch + 1, i + 1, running_loss / 100))\n",
        "            running_loss = 0.0\n",
        "\n",
        "print('Finished Training')\n",
        "# loss: 1.475"
      ],
      "metadata": {
        "id": "ttxSem9v7-su"
      },
      "execution_count": null,
      "outputs": []
    },
    {
      "cell_type": "code",
      "source": [
        "# --- モデルの保存 ---\n",
        "\n",
        "torch.save(net.state_dict(), 'model')"
      ],
      "metadata": {
        "id": "CExo7NRc9BbG"
      },
      "execution_count": 16,
      "outputs": []
    }
  ]
}